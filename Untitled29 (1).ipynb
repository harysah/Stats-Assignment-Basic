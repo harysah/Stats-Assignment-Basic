{
 "cells": [
  {
   "cell_type": "code",
   "execution_count": null,
   "id": "6c76c929-6f3c-4b74-945a-744e149fea89",
   "metadata": {},
   "outputs": [],
   "source": [
    "stats assignment"
   ]
  },
  {
   "cell_type": "markdown",
   "id": "3fda0950-6814-479c-8f40-609ec2cc869f",
   "metadata": {},
   "source": [
    "1.What is statistics, and why is it important"
   ]
  },
  {
   "cell_type": "code",
   "execution_count": null,
   "id": "9eac4fc6-1ea8-49c6-a1d8-98307f46d1cb",
   "metadata": {},
   "outputs": [],
   "source": [
    "Statistics is the science of collecting, analyzing, interpreting, presenting, and organizing data.\n",
    "Importance: It helps in making informed decisions, understanding trends, testing hypotheses, and predicting future outcomes across various fields like business, health, economics, and science."
   ]
  },
  {
   "cell_type": "code",
   "execution_count": null,
   "id": "7d57ba8d-4fcb-4393-a08c-dbb6429e9bb0",
   "metadata": {},
   "outputs": [],
   "source": [
    "2. What are the two main types of statistics"
   ]
  },
  {
   "cell_type": "code",
   "execution_count": null,
   "id": "ca459d2b-0143-4168-81ad-ae6c53d62cc1",
   "metadata": {},
   "outputs": [],
   "source": [
    "Descriptive Statistics – Summarize and describe features of a dataset.\n",
    "\n",
    "Inferential Statistics – Draw conclusions and make predictions about a population based on a sample."
   ]
  },
  {
   "cell_type": "code",
   "execution_count": null,
   "id": "d19222d3-6be3-4441-99af-3417709787d3",
   "metadata": {},
   "outputs": [],
   "source": [
    "3. What are descriptive statistics\n"
   ]
  },
  {
   "cell_type": "code",
   "execution_count": null,
   "id": "acafb5e2-bfa0-4c8b-8243-490c1d35e47f",
   "metadata": {},
   "outputs": [],
   "source": [
    "Definition: Descriptive statistics summarize and organize characteristics of a dataset.\n",
    "Examples: Mean, median, mode, standard deviation, range, frequency, and percentages.\n",
    "\n"
   ]
  },
  {
   "cell_type": "code",
   "execution_count": null,
   "id": "430e5e1c-6e64-4f2c-8f66-2f3d2e5932b5",
   "metadata": {},
   "outputs": [],
   "source": [
    "4. What is inferential statistics"
   ]
  },
  {
   "cell_type": "code",
   "execution_count": null,
   "id": "229d9c0b-df24-43d5-9aae-4ed496ae8bed",
   "metadata": {},
   "outputs": [],
   "source": [
    "Inferential statistics use a sample of data to make estimates, decisions, or predictions about a population.\n",
    "Examples: Hypothesis testing, confidence intervals, regression analysis."
   ]
  },
  {
   "cell_type": "code",
   "execution_count": null,
   "id": "86d5d6f1-a258-45a6-8aa7-7e09b6c9b9b0",
   "metadata": {},
   "outputs": [],
   "source": [
    "5.What is sampling in statistics\n",
    "Sampling is the process of selecting a subset (sample) from a larger population to estimate characteristics of the whole population.\n"
   ]
  },
  {
   "cell_type": "code",
   "execution_count": null,
   "id": "1d40852c-4e0d-4ab3-aae2-4c4b6cc351ea",
   "metadata": {},
   "outputs": [],
   "source": [
    "6. What are the different types of sampling methods\n",
    "Random Sampling: Every member has an equal chance.\n",
    "\n",
    "Systematic Sampling: Select every _k_th item.\n",
    "\n",
    "Stratified Sampling: Divide population into subgroups and sample from each.\n",
    "\n",
    "Cluster Sampling: Divide into clusters, randomly select entire clusters.\n",
    "\n",
    "Convenience Sampling (Non-random): Use data that is easy to access.\n",
    "\n",
    "Judgmental/Purposive Sampling (Non-random): Based on researcher’s judgment."
   ]
  },
  {
   "cell_type": "code",
   "execution_count": null,
   "id": "2783ab3b-7621-4233-960f-90778739a4ad",
   "metadata": {},
   "outputs": [],
   "source": [
    "7. What is the difference between random and non-random sampling\n",
    "Random Sampling: Eliminates bias; results are more generalizable.\n",
    "\n",
    "Non-Random Sampling: May be biased; used when random sampling is impractical.\n",
    "\n"
   ]
  },
  {
   "cell_type": "code",
   "execution_count": null,
   "id": "1b973cae-d058-4c59-867b-fd52c9e61474",
   "metadata": {},
   "outputs": [],
   "source": [
    "8. Define and give examples of qualitative and quantitative data\n",
    "Qualitative Data: Descriptive; non-numeric.\n",
    "Example: Colors, names, types of animals.\n",
    "\n",
    "Quantitative Data: Numeric; measurable.\n",
    "Example: Height, weight, age.\n",
    "\n",
    "\n"
   ]
  },
  {
   "cell_type": "code",
   "execution_count": null,
   "id": "e199d7d9-fcfe-4743-a54d-5b1650a5b490",
   "metadata": {},
   "outputs": [],
   "source": [
    "9. What are the different types of data in statistics\n",
    "Qualitative (Categorical) Data: Nominal and Ordinal.\n",
    "\n",
    "Quantitative (Numerical) Data: Discrete and Continuous.\n",
    "\n"
   ]
  },
  {
   "cell_type": "code",
   "execution_count": null,
   "id": "ba6630ff-15af-4c9b-a681-3033dfc29575",
   "metadata": {},
   "outputs": [],
   "source": [
    "10.Explain nominal, ordinal, interval, and ratio levels of measurement\n",
    "Nominal: Categories with no order. Example: Gender, colors.\n",
    "\n",
    "Ordinal: Ordered categories. Example: Rankings, satisfaction level.\n",
    "\n",
    "Interval: Ordered, equal spacing, no true zero. Example: Temperature (°C).\n",
    "\n",
    "Ratio: Interval with a true zero. Example: Height, weight, income.\n",
    "\n"
   ]
  },
  {
   "cell_type": "code",
   "execution_count": null,
   "id": "6611bcdf-7208-4e94-9b7a-998ea7cf1c1e",
   "metadata": {},
   "outputs": [],
   "source": [
    "11.What is the measure of central tendency\n",
    " It indicates the center or typical value in a dataset.\n",
    "Main Measures: Mean, Median, Mode."
   ]
  },
  {
   "cell_type": "code",
   "execution_count": null,
   "id": "6fbab10b-638f-49f0-b0b3-0ea0484cc5ae",
   "metadata": {},
   "outputs": [],
   "source": [
    "12. Define mean, median, and mode\n",
    "Mean: Average of all values.\n",
    "\n",
    "Median: Middle value when sorted.\n",
    "\n",
    "Mode: Most frequently occurring value."
   ]
  },
  {
   "cell_type": "code",
   "execution_count": null,
   "id": "08ba6e6b-e4f1-4170-8c1e-46f31414737a",
   "metadata": {},
   "outputs": [],
   "source": [
    "13. What is the significance of the measure of central tendency\n",
    "Helps in understanding the general trend, average behavior, or common values in a dataset.\n"
   ]
  },
  {
   "cell_type": "code",
   "execution_count": null,
   "id": "f6e1ef6e-c321-44aa-83f2-72af1ba50555",
   "metadata": {},
   "outputs": [],
   "source": [
    "14.What is variance, and how is it calculated\n",
    " Measures how data points spread around the mean."
   ]
  },
  {
   "cell_type": "code",
   "execution_count": null,
   "id": "44843b29-3698-4646-aba3-ef3e13dcbbfd",
   "metadata": {},
   "outputs": [],
   "source": [
    "15.What is standard deviation, and why is it important\n",
    "Square root of variance; measures average distance from the mean.\n",
    "Importance: Indicates the spread or consistency of data."
   ]
  },
  {
   "cell_type": "code",
   "execution_count": null,
   "id": "71d3ed5e-fe05-47e5-ba96-2b5b54e145c1",
   "metadata": {},
   "outputs": [],
   "source": [
    "16. Define and explain the term range in statistics\n",
    "Difference between the highest and lowest values in a dataset."
   ]
  },
  {
   "cell_type": "code",
   "execution_count": null,
   "id": "d264d3a9-a2db-4e06-9377-fd7b15927605",
   "metadata": {},
   "outputs": [],
   "source": [
    "17.What is the difference between variance and standard deviation\n",
    "Variance: Measures dispersion in squared units.\n",
    "\n",
    "Standard Deviation: Measures dispersion in original units; easier to interpret."
   ]
  },
  {
   "cell_type": "code",
   "execution_count": null,
   "id": "75d7d865-3c1a-40d4-b6ea-07a6dba2bae5",
   "metadata": {},
   "outputs": [],
   "source": [
    "18. What is skewness in a dataset\n",
    "Measures asymmetry in the distribution of data.\n",
    "\n",
    "Symmetric: Skewness = 0\n",
    "\n",
    "Positive Skew: Tail on the right.\n",
    "\n",
    "Negative Skew: Tail on the left."
   ]
  },
  {
   "cell_type": "code",
   "execution_count": null,
   "id": "4be3c382-475d-44e8-9e4e-aa0ea8415d91",
   "metadata": {},
   "outputs": [],
   "source": [
    "19.What does it mean if a dataset is positively or negatively skewed\n",
    "Positive Skew: Mean > Median > Mode\n",
    "\n",
    "Negative Skew: Mode > Median > Mean\n",
    "\n",
    "\n"
   ]
  },
  {
   "cell_type": "code",
   "execution_count": null,
   "id": "5f73e175-a08e-429d-80cc-956f9a73ea5b",
   "metadata": {},
   "outputs": [],
   "source": [
    "20. Define and explain kurtosis\n",
    "Measures \"tailedness\" or peakedness of data distribution.\n",
    "\n",
    "Leptokurtic: Heavy tails.\n",
    "\n",
    "Platykurtic: Light tails.\n",
    "\n",
    "Mesokurtic: Normal distribution.\n",
    "\n",
    "\n"
   ]
  },
  {
   "cell_type": "code",
   "execution_count": null,
   "id": "1871bbc7-761f-4313-804c-4d0fc426e277",
   "metadata": {},
   "outputs": [],
   "source": [
    "21.What is the purpose of covariance?\n",
    "Covariance measures the direction of a linear relationship between two variables.\n",
    "\n",
    "If covariance is positive, it means that as one variable increases, the other tends to increase.\n",
    "\n",
    "If it's negative, one variable tends to decrease as the other increases.\n",
    "\n",
    "A zero covariance suggests no linear relationship.\n",
    "\n",
    "Purpose: To understand whether two variables move together — and in what direction.\n",
    "\n"
   ]
  },
  {
   "cell_type": "code",
   "execution_count": null,
   "id": "e54c07d7-ac36-4fb9-b9e9-02062e16a831",
   "metadata": {},
   "outputs": [],
   "source": [
    "22.What does correlation measure in statistics?\n",
    "Correlation measures both the strength and direction of a linear relationship between two variables.\n",
    "It’s a scaled version of covariance that ranges from -1 to +1:\n",
    "\n",
    "+1: perfect positive relationship\n",
    "\n",
    "0: no linear relationship\n",
    "\n",
    "–1: perfect negative relationship\n",
    "\n",
    "Purpose: To quantify how strongly two variables are related, regardless of their units."
   ]
  },
  {
   "cell_type": "code",
   "execution_count": null,
   "id": "b34579f9-4fce-4673-ab31-aa635c569a75",
   "metadata": {},
   "outputs": [],
   "source": [
    "23.What is the difference between covariance and correlation\n",
    "Feature\tCovariance\tCorrelation\n",
    "Scale\tNot standardized; affected by units\tStandardized between –1 and +1\n",
    "Interpretation\tOnly direction (positive/negative)\tDirection and strength of relationship\n",
    "Units\tProduct of the variables' units\tUnitless\n",
    "Comparison\tHarder to compare across datasets\tEasier to compare relationships"
   ]
  },
  {
   "cell_type": "code",
   "execution_count": null,
   "id": "a4da8333-3e10-4c92-82be-c1d46d4c48ec",
   "metadata": {},
   "outputs": [],
   "source": [
    "practical questions"
   ]
  },
  {
   "cell_type": "code",
   "execution_count": null,
   "id": "de1dcc55-8980-432f-a783-e58d095e513f",
   "metadata": {},
   "outputs": [],
   "source": [
    "1. How do you calculate the mean, median, and mode of a dataset\n"
   ]
  },
  {
   "cell_type": "code",
   "execution_count": 1,
   "id": "9a72e4d3-d92a-4b11-af1f-2467bc2cbf2d",
   "metadata": {},
   "outputs": [
    {
     "name": "stdout",
     "output_type": "stream",
     "text": [
      "Mean: 30.0\n"
     ]
    }
   ],
   "source": [
    "import numpy as np\n",
    "\n",
    "data = [10, 20, 30, 40, 50]\n",
    "mean = np.mean(data)\n",
    "print(\"Mean:\", mean)"
   ]
  },
  {
   "cell_type": "code",
   "execution_count": 2,
   "id": "2b68256f-6ebd-408c-8834-ef724ce1a394",
   "metadata": {},
   "outputs": [
    {
     "name": "stdout",
     "output_type": "stream",
     "text": [
      "Median: 30.0\n"
     ]
    }
   ],
   "source": [
    "import numpy as np\n",
    "\n",
    "data = [10, 20, 30, 40, 50]\n",
    "median = np.median(data)\n",
    "print(\"Median:\", median)"
   ]
  },
  {
   "cell_type": "code",
   "execution_count": 3,
   "id": "a6236efb-ba51-4dc8-a91c-aaffedd90e60",
   "metadata": {},
   "outputs": [
    {
     "name": "stdout",
     "output_type": "stream",
     "text": [
      "Mode: 50\n"
     ]
    }
   ],
   "source": [
    "from scipy import stats\n",
    "\n",
    "data = [10, 20, 30, 40, 50, 50]\n",
    "mode_result = stats.mode(data, keepdims=True)\n",
    "print(\"Mode:\", mode_result.mode[0])"
   ]
  },
  {
   "cell_type": "code",
   "execution_count": null,
   "id": "71e2d4e6-5eb1-4cd5-b245-e4c1b9d1a2be",
   "metadata": {},
   "outputs": [],
   "source": [
    "2.Write a Python program to compute the variance and standard deviation of a dataset"
   ]
  },
  {
   "cell_type": "code",
   "execution_count": 4,
   "id": "cb2ad39a-2d3e-42ac-90ff-0304bef0be5f",
   "metadata": {},
   "outputs": [
    {
     "name": "stdout",
     "output_type": "stream",
     "text": [
      "Variance: 200.0\n",
      "Standard Deviation: 14.142135623730951\n"
     ]
    }
   ],
   "source": [
    "import numpy as np\n",
    "\n",
    "data = [10, 20, 30, 40, 50]\n",
    "variance = np.var(data)\n",
    "std_dev = np.std(data)\n",
    "print(\"Variance:\", variance)\n",
    "print(\"Standard Deviation:\", std_dev)"
   ]
  },
  {
   "cell_type": "code",
   "execution_count": null,
   "id": "aac40609-5725-4f40-b762-771dd5f82f03",
   "metadata": {},
   "outputs": [],
   "source": [
    "3. Create a dataset and classify it into nominal, ordinal, interval, and ratio types\n",
    "Here's an example dataset with classifications:\n",
    "\n",
    "Nominal: Colors of cars: ['Red', 'Blue', 'Green']\n",
    "\n",
    "Ordinal: Education levels: ['High School', 'Bachelor', 'Master', 'PhD']\n",
    "\n",
    "Interval: Temperature in Celsius: [0, 20, 40]\n",
    "\n",
    "Ratio: Heights in meters: [1.5, 1.7, 1.8]"
   ]
  },
  {
   "cell_type": "code",
   "execution_count": null,
   "id": "a8fd8881-a794-4103-bbe7-00b0320dc409",
   "metadata": {},
   "outputs": [],
   "source": [
    "4. Implement sampling techniques like random sampling and stratified sampling\n"
   ]
  },
  {
   "cell_type": "code",
   "execution_count": 5,
   "id": "df63a907-f357-4901-a4e5-386c3b767e9d",
   "metadata": {},
   "outputs": [
    {
     "name": "stdout",
     "output_type": "stream",
     "text": [
      "Random Sample: [43 39 68 66 10 24 31 91 26 67]\n"
     ]
    }
   ],
   "source": [
    "import numpy as np\n",
    "\n",
    "population = np.arange(1, 101)  # Population of 100\n",
    "sample_size = 10\n",
    "random_sample = np.random.choice(population, size=sample_size, replace=False)\n",
    "print(\"Random Sample:\", random_sample)"
   ]
  },
  {
   "cell_type": "code",
   "execution_count": 6,
   "id": "1ae16ca9-12ed-4c62-931f-0c153373830e",
   "metadata": {},
   "outputs": [
    {
     "name": "stdout",
     "output_type": "stream",
     "text": [
      "Stratified Sample:\n",
      "     Gender  Score\n",
      "32    Male     13\n",
      "13  Female     98\n",
      "40    Male     41\n",
      "19  Female     28\n",
      "9   Female     25\n",
      "17  Female     45\n",
      "46    Male     64\n",
      "37  Female     15\n",
      "28    Male     49\n",
      "58    Male     33\n",
      "1   Female     11\n",
      "44    Male     34\n",
      "0     Male     17\n",
      "69  Female     52\n",
      "87  Female     49\n",
      "20    Male     19\n",
      "55  Female     90\n",
      "94    Male      1\n",
      "62    Male     91\n",
      "51  Female      3\n"
     ]
    }
   ],
   "source": [
    "import pandas as pd\n",
    "from sklearn.model_selection import train_test_split\n",
    "\n",
    "# Example dataframe\n",
    "df = pd.DataFrame({\n",
    "    'Gender': ['Male', 'Female'] * 50,\n",
    "    'Score': np.random.randint(0, 100, 100)\n",
    "})\n",
    "\n",
    "# Stratified sampling based on 'Gender'\n",
    "stratified_sample, _ = train_test_split(df, test_size=0.8, stratify=df['Gender'])\n",
    "print(\"Stratified Sample:\\n\", stratified_sample)"
   ]
  },
  {
   "cell_type": "code",
   "execution_count": null,
   "id": "5bbc3f37-8320-441f-a567-7c90aa796775",
   "metadata": {},
   "outputs": [],
   "source": [
    "5. Write a Python function to calculate the range of a dataset"
   ]
  },
  {
   "cell_type": "code",
   "execution_count": 7,
   "id": "4deec883-6eb2-4040-ae43-ad84fc10df91",
   "metadata": {},
   "outputs": [
    {
     "name": "stdout",
     "output_type": "stream",
     "text": [
      "Skewness: 0.0\n",
      "Kurtosis: -1.25\n"
     ]
    }
   ],
   "source": [
    "from scipy.stats import skew, kurtosis\n",
    "\n",
    "data = [10, 20, 30, 40, 50, 60, 70]\n",
    "skewness = skew(data)\n",
    "kurt = kurtosis(data)\n",
    "print(\"Skewness:\", skewness)\n",
    "print(\"Kurtosis:\", kurt)"
   ]
  },
  {
   "cell_type": "code",
   "execution_count": null,
   "id": "d29f775e-076b-48a0-9e0e-90204458b39b",
   "metadata": {},
   "outputs": [],
   "source": [
    "6. Create a dataset and plot its histogram to visualize skewness"
   ]
  },
  {
   "cell_type": "code",
   "execution_count": 8,
   "id": "dbcc6572-294c-41ea-922d-4fba23078173",
   "metadata": {},
   "outputs": [
    {
     "data": {
      "image/png": "[encoded data removed]",
      "text/plain": [
       "<Figure size 640x480 with 1 Axes>"
      ]
     },
     "metadata": {},
     "output_type": "display_data"
    }
   ],
   "source": [
    "import matplotlib.pyplot as plt\n",
    "\n",
    "data = [10, 20, 30, 40, 50, 60, 70]\n",
    "plt.hist(data, bins=5, edgecolor='black')\n",
    "plt.title('Histogram')\n",
    "plt.xlabel('Value')\n",
    "plt.ylabel('Frequency')\n",
    "plt.show()"
   ]
  },
  {
   "cell_type": "code",
   "execution_count": null,
   "id": "01328080-a1c2-4dfd-888b-28dc09060990",
   "metadata": {},
   "outputs": [],
   "source": [
    "7.Calculate skewness and kurtosis of a dataset using Python libraries"
   ]
  },
  {
   "cell_type": "code",
   "execution_count": 9,
   "id": "85a4ef40-920c-4fa5-b5ce-1283cb754d3c",
   "metadata": {},
   "outputs": [
    {
     "data": {
      "image/png": "[encoded data removed]",
      "text/plain": [
       "<Figure size 1200x500 with 2 Axes>"
      ]
     },
     "metadata": {},
     "output_type": "display_data"
    }
   ],
   "source": [
    "import numpy as np\n",
    "import matplotlib.pyplot as plt\n",
    "from scipy.stats import skewnorm\n",
    "\n",
    "# Generate data\n",
    "data_positive = skewnorm.rvs(a=10, size=1000)\n",
    "data_negative = skewnorm.rvs(a=-10, size=1000)\n",
    "\n",
    "# Plot\n",
    "fig, axs = plt.subplots(1, 2, figsize=(12, 5))\n",
    "axs[0].hist(data_positive, bins=30, color='skyblue', edgecolor='black')\n",
    "axs[0].set_title('Positive Skew')\n",
    "axs[1].hist(data_negative, bins=30, color='salmon', edgecolor='black')\n",
    "axs[1].set_title('Negative Skew')\n",
    "plt.show()\n"
   ]
  },
  {
   "cell_type": "code",
   "execution_count": null,
   "id": "00df4460-1217-4bff-a42a-7bf2c905b6bf",
   "metadata": {},
   "outputs": [],
   "source": [
    "8.Generate a dataset and demonstrate positive and negative skewness\n"
   ]
  },
  {
   "cell_type": "code",
   "execution_count": 10,
   "id": "d5ed88f9-8e50-4360-b328-efa9dbf5ca04",
   "metadata": {},
   "outputs": [
    {
     "name": "stdout",
     "output_type": "stream",
     "text": [
      "Covariance Matrix:\n",
      " [[  2.5  25. ]\n",
      " [ 25.  250. ]]\n"
     ]
    }
   ],
   "source": [
    "import numpy as np\n",
    "\n",
    "x = [1, 2, 3, 4, 5]\n",
    "y = [10, 20, 30, 40, 50]\n",
    "cov_matrix = np.cov(x, y)\n",
    "print(\"Covariance Matrix:\\n\", cov_matrix)"
   ]
  },
  {
   "cell_type": "code",
   "execution_count": null,
   "id": "ecf229e7-4263-4fac-ad71-1a0a219ccf5f",
   "metadata": {},
   "outputs": [],
   "source": [
    "9. Write a Python script to calculate covariance between two datasets"
   ]
  },
  {
   "cell_type": "code",
   "execution_count": 11,
   "id": "4ba06120-b7a6-4d6d-a23b-8291b7cad8b5",
   "metadata": {},
   "outputs": [
    {
     "name": "stdout",
     "output_type": "stream",
     "text": [
      "Correlation Coefficient Matrix:\n",
      " [[1. 1.]\n",
      " [1. 1.]]\n"
     ]
    }
   ],
   "source": [
    "import numpy as np\n",
    "\n",
    "x = [1, 2, 3, 4, 5]\n",
    "y = [10, 20, 30, 40, 50]\n",
    "correlation_matrix = np.corrcoef(x, y)\n",
    "print(\"Correlation Coefficient Matrix:\\n\", correlation_matrix)"
   ]
  },
  {
   "cell_type": "code",
   "execution_count": null,
   "id": "da108704-fdd9-4b62-8a42-d807a37b6ebd",
   "metadata": {},
   "outputs": [],
   "source": [
    "10. Write a Python script to calculate the correlation coefficient between two datasets"
   ]
  },
  {
   "cell_type": "code",
   "execution_count": 12,
   "id": "0c4d1c64-b7e3-4320-87b1-83d1002eedaa",
   "metadata": {},
   "outputs": [
    {
     "name": "stdout",
     "output_type": "stream",
     "text": [
      "Correlation Coefficient: 0.9979795586078775\n"
     ]
    }
   ],
   "source": [
    "import numpy as np\n",
    "\n",
    "# Sample data\n",
    "x = [10, 20, 30, 40, 50]\n",
    "y = [12, 24, 33, 45, 53]\n",
    "\n",
    "# Correlation coefficient\n",
    "correlation = np.corrcoef(x, y)[0, 1]\n",
    "print(\"Correlation Coefficient:\", correlation)"
   ]
  },
  {
   "cell_type": "code",
   "execution_count": null,
   "id": "b8fb5647-9e27-4fce-8427-9b937b48c0cc",
   "metadata": {},
   "outputs": [],
   "source": [
    "11.5 Create a scatter plot to visualize the relationship between two variables"
   ]
  },
  {
   "cell_type": "code",
   "execution_count": 13,
   "id": "16b57e64-c2b6-44f1-8669-e935612050a8",
   "metadata": {},
   "outputs": [
    {
     "data": {
      "image/png": "[encoded data removed]",
      "text/plain": [
       "<Figure size 640x480 with 1 Axes>"
      ]
     },
     "metadata": {},
     "output_type": "display_data"
    }
   ],
   "source": [
    "import matplotlib.pyplot as plt\n",
    "\n",
    "plt.scatter(x, y, color='blue')\n",
    "plt.title(\"Scatter Plot of x vs y\")\n",
    "plt.xlabel(\"x values\")\n",
    "plt.ylabel(\"y values\")\n",
    "plt.grid(True)\n",
    "plt.show()"
   ]
  },
  {
   "cell_type": "code",
   "execution_count": null,
   "id": "9f81df67-8234-4527-b1a8-d5f010848646",
   "metadata": {},
   "outputs": [],
   "source": [
    "12. Implement and compare simple random sampling and systematic sampling"
   ]
  },
  {
   "cell_type": "code",
   "execution_count": 14,
   "id": "e9bb1392-4742-4f22-b354-d6ba865e7076",
   "metadata": {},
   "outputs": [
    {
     "name": "stdout",
     "output_type": "stream",
     "text": [
      "Simple Random Sample: [92, 37, 66, 7, 20, 55, 28, 54, 57, 70]\n",
      "Systematic Sample: [2, 12, 22, 32, 42, 52, 62, 72, 82, 92]\n"
     ]
    }
   ],
   "source": [
    "import random\n",
    "\n",
    "data = list(range(1, 101))  # Population of 100 elements\n",
    "sample_size = 10\n",
    "\n",
    "# Simple random sampling\n",
    "simple_random_sample = random.sample(data, sample_size)\n",
    "print(\"Simple Random Sample:\", simple_random_sample)\n",
    "\n",
    "# Systematic sampling\n",
    "interval = len(data) // sample_size\n",
    "start = random.randint(0, interval - 1)\n",
    "systematic_sample = [data[i] for i in range(start, len(data), interval)]\n",
    "print(\"Systematic Sample:\", systematic_sample)"
   ]
  },
  {
   "cell_type": "code",
   "execution_count": null,
   "id": "b618c973-065b-4a91-bba0-05bd93e6cd22",
   "metadata": {},
   "outputs": [],
   "source": [
    "13. Calculate the mean, median, and mode of grouped data"
   ]
  },
  {
   "cell_type": "code",
   "execution_count": 15,
   "id": "1eeea299-564a-4e3b-a68c-63872c61a301",
   "metadata": {},
   "outputs": [
    {
     "ename": "SyntaxError",
     "evalue": "invalid character '✅' (U+2705) (36692664.py, line 16)",
     "output_type": "error",
     "traceback": [
      "\u001b[1;36m  Cell \u001b[1;32mIn[15], line 16\u001b[1;36m\u001b[0m\n\u001b[1;33m    ✅ 5. Simulate Data and Calculate Central Tendency & Dispersion\u001b[0m\n\u001b[1;37m    ^\u001b[0m\n\u001b[1;31mSyntaxError\u001b[0m\u001b[1;31m:\u001b[0m invalid character '✅' (U+2705)\n"
     ]
    }
   ],
   "source": [
    "from statistics import mean, median, mode\n",
    "\n",
    "# Grouped data represented by midpoints and frequencies\n",
    "group_midpoints = [5, 15, 25, 35, 45]\n",
    "frequencies = [4, 6, 10, 8, 2]\n",
    "\n",
    "# Reconstruct data\n",
    "grouped_data = []\n",
    "for midpoint, freq in zip(group_midpoints, frequencies):\n",
    "    grouped_data.extend([midpoint] * freq)\n",
    "\n",
    "# Calculate central tendencies\n",
    "print(\"Mean:\", mean(grouped_data))\n",
    "print(\"Median:\", median(grouped_data))\n",
    "print(\"Mode:\", mode(grouped_data))\n",
    "✅ 5. Simulate Data and Calculate Central Tendency & Dispersion\n",
    "python\n",
    "Copy\n",
    "Edit\n",
    "import numpy as np\n",
    "\n",
    "# Simulate data\n",
    "simulated_data = np.random.normal(loc=50, scale=10, size=1000)\n",
    "\n",
    "# Central tendency\n",
    "mean_val = np.mean(simulated_data)\n",
    "median_val = np.median(simulated_data)\n",
    "mode_val = float(np.round(np.mean(simulated_data)))  # Approx mode for continuous data\n",
    "\n",
    "# Dispersion\n",
    "std_dev = np.std(simulated_data)\n",
    "variance = np.var(simulated_data)\n",
    "range_val = np.ptp(simulated_data)\n",
    "\n",
    "print(f\"Mean: {mean_val:.2f}\")\n",
    "print(f\"Median: {median_val:.2f}\")\n",
    "print(f\"Mode (approx): {mode_val}\")\n",
    "print(f\"Standard Deviation: {std_dev:.2f}\")\n",
    "print(f\"Variance: {variance:.2f}\")\n",
    "print(f\"Range: {range_val:.2f}\")\n",
    "Let me know if you’d like a combined version or individual files/scripts.\n",
    "\n",
    "\n",
    "\n",
    "\n",
    "\n",
    "\n",
    "\n",
    "\n",
    "\n",
    "\n"
   ]
  },
  {
   "cell_type": "code",
   "execution_count": null,
   "id": "b24916df-91b8-465c-9185-015f2d36755f",
   "metadata": {},
   "outputs": [],
   "source": [
    "14. Simulate data using Python and calculate its central tendency and dispersion."
   ]
  },
  {
   "cell_type": "code",
   "execution_count": 16,
   "id": "ec2b9c74-8998-4e86-8385-0a1b2cf453d5",
   "metadata": {},
   "outputs": [
    {
     "name": "stdout",
     "output_type": "stream",
     "text": [
      "Mean: 50.08\n",
      "Median: 50.00\n",
      "Mode (approx): 50.0\n",
      "Standard Deviation: 9.89\n",
      "Variance: 97.73\n",
      "Range: 66.19\n"
     ]
    }
   ],
   "source": [
    "import numpy as np\n",
    "\n",
    "# Simulate data\n",
    "simulated_data = np.random.normal(loc=50, scale=10, size=1000)\n",
    "\n",
    "# Central tendency\n",
    "mean_val = np.mean(simulated_data)\n",
    "median_val = np.median(simulated_data)\n",
    "mode_val = float(np.round(np.mean(simulated_data)))  # Approx mode for continuous data\n",
    "\n",
    "# Dispersion\n",
    "std_dev = np.std(simulated_data)\n",
    "variance = np.var(simulated_data)\n",
    "range_val = np.ptp(simulated_data)\n",
    "\n",
    "print(f\"Mean: {mean_val:.2f}\")\n",
    "print(f\"Median: {median_val:.2f}\")\n",
    "print(f\"Mode (approx): {mode_val}\")\n",
    "print(f\"Standard Deviation: {std_dev:.2f}\")\n",
    "print(f\"Variance: {variance:.2f}\")\n",
    "print(f\"Range: {range_val:.2f}\")"
   ]
  },
  {
   "cell_type": "code",
   "execution_count": null,
   "id": "28531759-8bec-40c3-b840-874fe7bd10f4",
   "metadata": {},
   "outputs": [],
   "source": [
    "15.> Use NumPy or pandas to summarize a dataset’s descriptive statistics>"
   ]
  },
  {
   "cell_type": "code",
   "execution_count": 17,
   "id": "da3d473c-c7be-49f8-b0c4-529cf03b61c9",
   "metadata": {},
   "outputs": [
    {
     "name": "stdout",
     "output_type": "stream",
     "text": [
      "Descriptive Statistics:\n",
      "                 A           B           C\n",
      "count  100.000000  100.000000  100.000000\n",
      "mean    50.598080   61.230195   53.815355\n",
      "std     10.129598   15.598192   19.135973\n",
      "min     24.470102   26.648953   -0.451855\n",
      "25%     43.561433   48.818553   43.068709\n",
      "50%     50.940961   60.369823   53.492823\n",
      "75%     57.370774   72.712198   65.773134\n",
      "max     72.697546   95.747172  101.078334\n"
     ]
    }
   ],
   "source": [
    "import numpy as np\n",
    "import pandas as pd\n",
    "import matplotlib.pyplot as plt\n",
    "import seaborn as sns\n",
    "from scipy import stats\n",
    "# Generate synthetic dataset\n",
    "np.random.seed(0)\n",
    "data = pd.DataFrame({\n",
    "    'A': np.random.normal(50, 10, 100),\n",
    "    'B': np.random.normal(60, 15, 100),\n",
    "    'C': np.random.normal(55, 20, 100)\n",
    "})\n",
    "\n",
    "print(\"Descriptive Statistics:\\n\", data.describe())"
   ]
  },
  {
   "cell_type": "code",
   "execution_count": null,
   "id": "543ed818-a372-4ade-8ac2-1b784243bac9",
   "metadata": {},
   "outputs": [],
   "source": [
    "16. Plot a boxplot to understand the spread and identify outliers"
   ]
  },
  {
   "cell_type": "code",
   "execution_count": 18,
   "id": "8d4cc621-7cf1-4f3e-91fb-5a4ec6775ca7",
   "metadata": {},
   "outputs": [
    {
     "data": {
      "image/png": "[encoded data removed]",
      "text/plain": [
       "<Figure size 640x480 with 1 Axes>"
      ]
     },
     "metadata": {},
     "output_type": "display_data"
    }
   ],
   "source": [
    "import seaborn as sns\n",
    "import matplotlib.pyplot as plt\n",
    "\n",
    "# Sample data\n",
    "data = [12, 15, 14, 10, 13, 18, 21, 22, 24, 30, 35, 40]\n",
    "\n",
    "# Create boxplot\n",
    "sns.boxplot(x=data)\n",
    "plt.title('Boxplot of Data')\n",
    "plt.xlabel('Value')\n",
    "plt.show()"
   ]
  },
  {
   "cell_type": "code",
   "execution_count": null,
   "id": "ece1a7ef-3a02-4b56-b9f1-cfdb6ace3cdf",
   "metadata": {},
   "outputs": [],
   "source": [
    "17. Calculate the interquartile range (IQR) of a dataset>"
   ]
  },
  {
   "cell_type": "code",
   "execution_count": 19,
   "id": "cc601baa-4748-4b13-8de3-c4db095ba084",
   "metadata": {},
   "outputs": [
    {
     "name": "stdout",
     "output_type": "stream",
     "text": [
      "Q1: 13.75, Q3: 25.5, IQR: 11.75\n"
     ]
    }
   ],
   "source": [
    "import numpy as np\n",
    "\n",
    "# Sample data\n",
    "data = np.array([12, 15, 14, 10, 13, 18, 21, 22, 24, 30, 35, 40])\n",
    "\n",
    "# Calculate Q1 and Q3\n",
    "Q1 = np.percentile(data, 25)\n",
    "Q3 = np.percentile(data, 75)\n",
    "\n",
    "# Calculate IQR\n",
    "IQR = Q3 - Q1\n",
    "\n",
    "print(f'Q1: {Q1}, Q3: {Q3}, IQR: {IQR}')\n"
   ]
  },
  {
   "cell_type": "code",
   "execution_count": null,
   "id": "83b7d7ea-5be6-4ac4-b017-13b290d19652",
   "metadata": {},
   "outputs": [],
   "source": [
    "18.> Implement Z-score normalization and explain its significance"
   ]
  },
  {
   "cell_type": "code",
   "execution_count": null,
   "id": "f3b72309-04c9-4c39-be55-953d1433ca03",
   "metadata": {},
   "outputs": [],
   "source": [
    "import numpy as np\n",
    "from sklearn.preprocessing import StandardScaler\n",
    "\n",
    "# Sample data\n",
    "data = np.array([[100, 0.001],\n",
    "                 [8, 0.05],\n",
    "                 [50, 0.005],\n",
    "                 [88, 0.07],\n",
    "                 [4, 0.1]])\n",
    "\n",
    "# Apply Z-score normalization\n",
    "scaler = StandardScaler()\n",
    "normalized_data = scaler.fit_transform(data)\n",
    "\n",
    "print(normalized_data)"
   ]
  },
  {
   "cell_type": "code",
   "execution_count": null,
   "id": "57c9dc60-2687-42f2-8aa6-f08df8e8b21b",
   "metadata": {},
   "outputs": [],
   "source": [
    "19.> Compare two datasets using their standard deviations>"
   ]
  },
  {
   "cell_type": "code",
   "execution_count": null,
   "id": "3b0ef819-90d9-4d96-93ee-4051d68ed86d",
   "metadata": {},
   "outputs": [],
   "source": [
    "import numpy as np\n",
    "\n",
    "# Dataset A: Low variability\n",
    "data_a = [50, 52, 49, 51, 50, 52, 48]\n",
    "\n",
    "# Dataset B: High variability\n",
    "data_b = [30, 70, 20, 80, 25, 75, 35]\n",
    "\n",
    "std_a = np.std(data_a)\n",
    "std_b = np.std(data_b)\n",
    "\n",
    "print(f\"Standard Deviation of Dataset A: {std_a}\")\n",
    "print(f\"Standard Deviation of Dataset B: {std_b}\")"
   ]
  },
  {
   "cell_type": "code",
   "execution_count": null,
   "id": "f8bac982-8fe1-483f-bd5b-f68b1d40ed39",
   "metadata": {},
   "outputs": [],
   "source": [
    "20."
   ]
  }
 ],
 "metadata": {
  "kernelspec": {
   "display_name": "Python 3 (ipykernel)",
   "language": "python",
   "name": "python3"
  },
  "language_info": {
   "codemirror_mode": {
    "name": "ipython",
    "version": 3
   },
   "file_extension": ".py",
   "mimetype": "text/x-python",
   "name": "python",
   "nbconvert_exporter": "python",
   "pygments_lexer": "ipython3",
   "version": "3.12.7"
  }
 },
 "nbformat": 4,
 "nbformat_minor": 5
}
